{
  "nbformat": 4,
  "nbformat_minor": 0,
  "metadata": {
    "colab": {
      "name": "fb_quantic_budget_config.ipynb",
      "provenance": [],
      "collapsed_sections": [],
      "include_colab_link": true
    },
    "kernelspec": {
      "name": "python3",
      "language": "python",
      "display_name": "Python 3"
    }
  },
  "cells": [
    {
      "cell_type": "markdown",
      "metadata": {
        "id": "view-in-github",
        "colab_type": "text"
      },
      "source": [
        "<a href=\"https://colab.research.google.com/github/andrecsq/CS/blob/master/fb_quantic_budget_config.ipynb\" target=\"_parent\"><img src=\"https://colab.research.google.com/assets/colab-badge.svg\" alt=\"Open In Colab\"/></a>"
      ]
    },
    {
      "cell_type": "markdown",
      "metadata": {
        "id": "uMN7hcHHKdgp"
      },
      "source": [
        "# Budget Manager - Configuração de Orçamento\n",
        "\n",
        "O objetivo desta etapa é criar um dataset de configuração de orçamento das pools e o orçamento dos objetivos."
      ]
    },
    {
      "cell_type": "markdown",
      "metadata": {
        "id": "EZ24iEj5KxAi"
      },
      "source": [
        "### Configuração do notebook\n",
        "\n",
        "Utilizaremos as bibliotecas pandas e numpy para trabalhar com o dataset. Para o carregamento e consulta dos dados, utilizaremos a biblioteca do google cloud. Abaixo, iremos configurar os parâmetros globais do algoritmo."
      ]
    },
    {
      "cell_type": "code",
      "metadata": {
        "id": "MdCuRaMkaSXv"
      },
      "source": [
        "import os\n",
        "import warnings\n",
        "import pandas as pd\n",
        "import numpy as np\n",
        "\n",
        "from datetime import datetime, timedelta\n",
        "from google.cloud import bigquery\n",
        "from google.cloud.bigquery import magics\n",
        "from google.oauth2 import service_account\n",
        "\n",
        "warnings.filterwarnings('ignore', category=FutureWarning)"
      ],
      "execution_count": 79,
      "outputs": []
    },
    {
      "cell_type": "code",
      "metadata": {
        "id": "6ePqgRNjK2ny"
      },
      "source": [
        "PARTITION_DATE = locals().get('yesterday_ds', (datetime.today() - timedelta(days=1)).strftime(\"%Y-%m-%d\"))\n",
        "PARTITION_DATE_NODASH = locals().get('yesterday_ds_nodash', (datetime.today() - timedelta(days=1)).strftime(\"%Y%m%d\"))\n",
        "\n",
        "GOOGLE_AUTH_CREDENTIALS_FILE = os.environ.get('GOOGLE_APPLICATION_CREDENTIALS', '/content/credentials.json')\n",
        "\n",
        "BIGQUERY_PROJECT = 'pareto-bi'\n",
        "BIGQUERY_DATASET = locals().get('gbq_dataset', 'BUDGET_MANAGER_TEST')\n",
        "\n",
        "BIGQUERY_BUDGET_CONFIG_TABLE_PART = f'{BIGQUERY_PROJECT}.{BIGQUERY_DATASET}.fb_quantic_budget_config${PARTITION_DATE_NODASH}'\n",
        "BIGQUERY_BUDGET_CONFIG_TABLE = f'{BIGQUERY_PROJECT}.{BIGQUERY_DATASET}.fb_quantic_budget_config'\n",
        "BIGQUERY_OPT_IN_TABLE = f'{BIGQUERY_PROJECT}.BUDGET_MANAGER.fb_manual_config_opt_in_native'"
      ],
      "execution_count": 80,
      "outputs": []
    },
    {
      "cell_type": "code",
      "metadata": {
        "id": "gt1EWM9bLQmw",
        "outputId": "02e3aa2b-49bb-4f4f-eb5e-4b9dacd5af11",
        "colab": {
          "base_uri": "https://localhost:8080/",
          "height": 50
        }
      },
      "source": [
        "credentials = service_account.Credentials.from_service_account_file(GOOGLE_AUTH_CREDENTIALS_FILE)\n",
        "magics.context.credentials = credentials\n",
        "\n",
        "client = bigquery.Client(credentials=credentials, project=BIGQUERY_PROJECT)\n",
        "\n",
        "%load_ext google.cloud.bigquery"
      ],
      "execution_count": 81,
      "outputs": [
        {
          "output_type": "stream",
          "text": [
            "The google.cloud.bigquery extension is already loaded. To reload it, use:\n",
            "  %reload_ext google.cloud.bigquery\n"
          ],
          "name": "stdout"
        }
      ]
    },
    {
      "cell_type": "markdown",
      "metadata": {
        "id": "EUfB7dWrLS9A"
      },
      "source": [
        "### Montagem do dataset"
      ]
    },
    {
      "cell_type": "code",
      "metadata": {
        "id": "Qr4Ii_3E4djS"
      },
      "source": [
        "job_config=bigquery.QueryJobConfig(\n",
        "  destination=BIGQUERY_BUDGET_CONFIG_TABLE_PART,\n",
        "  write_disposition=\"WRITE_TRUNCATE\",\n",
        "  create_disposition=\"CREATE_IF_NEEDED\",\n",
        "  schema_update_options=[\"ALLOW_FIELD_ADDITION\", \"ALLOW_FIELD_RELAXATION\"],\n",
        "  use_legacy_sql=False,\n",
        "  time_partitioning=bigquery.table.TimePartitioning(field=\"day\"),\n",
        ")"
      ],
      "execution_count": 82,
      "outputs": []
    },
    {
      "cell_type": "code",
      "metadata": {
        "id": "48KwaikRKfNg"
      },
      "source": [
        "query = client.query(f\"\"\"\n",
        "\n",
        "WITH dates AS (\n",
        "  SELECT DATE_SUB(CURRENT_DATE('America/Sao_Paulo'), INTERVAL 1 DAY) AS yesterday\n",
        "),\n",
        "\n",
        "active_campaigns_with_budget AS (\n",
        "    SELECT DISTINCT\n",
        "        account_id,\n",
        "        account_name,\n",
        "        campaign_id,\n",
        "        campaign_name,\n",
        "        IF(adset_bid_strategy IS NOT NULL, FALSE, TRUE) AS is_cbo,\n",
        "        adgroup_id,\n",
        "        adgroup_name,\n",
        "        adset_optimization_goal,\n",
        "        REPLACE(JSON_EXTRACT(adset_promoted_object, '$.custom_event_type'), '\\\"', '') AS custom_event_type\n",
        "    FROM `pareto-bi.ETL_RAW.fb_adgroup`, dates\n",
        "    WHERE \n",
        "        day = yesterday\n",
        "        AND campaign_effective_status  = 'ACTIVE'\n",
        "        AND adset_effective_status = 'ACTIVE'\n",
        "),\n",
        "\n",
        "calculating_objective_and_result AS (\n",
        "    SELECT DISTINCT\n",
        "        account_id,\n",
        "        account_name,\n",
        "        campaign_id,\n",
        "        campaign_name,\n",
        "        is_cbo,\n",
        "        adgroup_id,\n",
        "        adgroup_name,\n",
        "        UTIL.get_budget_manager_objective_fb(adset_optimization_goal, custom_event_type) AS objective_name,\n",
        "        UTIL.get_budget_manager_kpi_fb(adset_optimization_goal, custom_event_type) AS objective_kpi,\n",
        "    FROM active_campaigns_with_budget\n",
        "),\n",
        "\n",
        "opt_in_elements AS (\n",
        "    SELECT \n",
        "        TRIM(cluster_name) AS cluster_name,\n",
        "        SAFE_CAST(cluster_budget AS FLOAT64) AS cluster_budget,\n",
        "        TRIM(status) AS automation_status,\n",
        "        SAFE_CAST(TRIM(account_id) AS INT64) AS account_id, \n",
        "        SAFE_CAST(TRIM(campaign_id) AS INT64) AS campaign_id,\n",
        "        CAST(NULL AS INT64) AS adgroup_id\n",
        "    FROM \n",
        "        {BIGQUERY_OPT_IN_TABLE} AS t_optin, \n",
        "        UNNEST(SPLIT(t_optin.campaigns_ids, \",\")) AS campaign_id\n",
        "    UNION ALL\n",
        "    SELECT \n",
        "        TRIM(cluster_name) AS cluster_name,\n",
        "        SAFE_CAST(cluster_budget AS FLOAT64) AS cluster_budget,\n",
        "        TRIM(status) AS automation_status,\n",
        "        SAFE_CAST(TRIM(account_id) AS INT64) AS account_id, \n",
        "        CAST(NULL AS INT64) AS campaign_id,\n",
        "        SAFE_CAST(TRIM(adset_id) AS INT64) AS adgroup_id\n",
        "    FROM \n",
        "        {BIGQUERY_OPT_IN_TABLE} AS t_optin, \n",
        "        UNNEST(SPLIT(t_optin.adsets_ids, \",\")) AS adset_id\n",
        "),\n",
        "\n",
        "opt_in_applied AS (\n",
        "    SELECT  \n",
        "        opt_in_elements.cluster_name,\n",
        "        opt_in_elements.cluster_budget,\n",
        "        opt_in_elements.automation_status,\n",
        "        t_accounts.*  \n",
        "    FROM calculating_objective_and_result AS t_accounts\n",
        "    LEFT JOIN opt_in_elements USING (account_id, campaign_id)\n",
        "    UNION ALL    \n",
        "    SELECT  \n",
        "        opt_in_elements.cluster_name,\n",
        "        opt_in_elements.cluster_budget,\n",
        "        opt_in_elements.automation_status,\n",
        "        t_accounts.* \n",
        "    FROM calculating_objective_and_result AS t_accounts\n",
        "    LEFT JOIN opt_in_elements USING (account_id, adgroup_id)\n",
        "),\n",
        "\n",
        "ranking_objective_kpis AS (\n",
        "    SELECT\n",
        "        *,\n",
        "        UTIL.get_budget_manager_kpi_rank_fb(objective_name, objective_kpi) AS kpi_rank\n",
        "    FROM opt_in_applied\n",
        "),\n",
        "\n",
        "getting_best_kpi_and_result AS (\n",
        "    SELECT \n",
        "        *,\n",
        "        FIRST_VALUE(objective_kpi) OVER (PARTITION BY account_id, objective_name ORDER BY kpi_rank) AS first_kpi, -- CPR\n",
        "        FIRST_VALUE(kpi_rank) OVER (PARTITION BY account_id, objective_name ORDER BY kpi_rank) AS first_kpi_rank, -- 2   \n",
        "    FROM ranking_objective_kpis     \n",
        "),\n",
        "\n",
        "ensuring_one_kpi_per_account_and_objective AS (\n",
        "    SELECT \n",
        "        * EXCEPT (objective_kpi, kpi_rank, first_kpi, first_kpi_rank),\n",
        "        IF(first_kpi_rank = kpi_rank, objective_kpi, first_kpi) AS objective_kpi,\n",
        "        COUNT(DISTINCT adgroup_id) OVER (PARTITION BY account_id, cluster_name, objective_name) AS quant_adsets_objective,\n",
        "        COUNT(DISTINCT adgroup_id) OVER (PARTITION BY account_id, cluster_name) AS quant_adsets_cluster\n",
        "    FROM getting_best_kpi_and_result     \n",
        "),\n",
        "\n",
        "getting_quantic_budget AS (\n",
        "    SELECT\n",
        "        accounts.id AS account_id,\n",
        "        IF(accounts.budget_goal = 0, NULL, accounts.budget_goal) AS account_budget,\n",
        "        ROW_NUMBER() OVER (PARTITION BY  accounts.id ORDER BY service_type) AS row_n\n",
        "    FROM `pareto-bi.QUANTIC.quantic_base_array`  AS t_base\n",
        "    CROSS JOIN UNNEST (fb_accounts) AS accounts\n",
        "    WHERE status = 'active'\n",
        "),\n",
        "\n",
        "bringing_only_one_budget_per_account_id AS (\n",
        "    SELECT * EXCEPT (row_n)\n",
        "    FROM getting_quantic_budget\n",
        "    WHERE row_n = 1\n",
        "),\n",
        "\n",
        "past_investment AS (\n",
        "    SELECT \n",
        "        account_id,\n",
        "        IFNULL(SUM(cost), 0) AS last_month_investment\n",
        "    FROM `pareto-bi.ETL_RAW.fb_adgroup`\n",
        "    WHERE \n",
        "        DATE_TRUNC(day, MONTH) = \n",
        "        DATE_TRUNC(DATE_SUB(CURRENT_DATE('America/Sao_Paulo'), INTERVAL 1 MONTH), MONTH)\n",
        "    GROUP BY 1\n",
        "),\n",
        "\n",
        "ensuring_all_accounts_have_budget AS (\n",
        "    SELECT DISTINCT\n",
        "        DATE('{PARTITION_DATE}') AS day,\n",
        "        CAST(NULL AS INT64) AS pool_id,\n",
        "        IFNULL(cluster_name, \"Manual Cluster\") AS pool_name,\n",
        "        cluster_budget AS pool_budget,\n",
        "        \"pareto_account_budget\" AS pool_budget_source,\n",
        "        0 AS version,\n",
        "        IFNULL(automation_status, 'DISABLED') AS automation_status,\n",
        "        account_id,\n",
        "        account_name,\n",
        "        ROUND(IFNULL(t_budget.account_budget, IFNULL(last_month_investment, 0))) AS account_budget,\n",
        "        objective_name,\n",
        "        objective_kpi,\n",
        "        SAFE_DIVIDE(quant_adsets_objective, quant_adsets_cluster) AS percentage_of_objective,\n",
        "        campaign_id,\n",
        "        campaign_name,\n",
        "        is_cbo,\n",
        "        adgroup_id,\n",
        "        adgroup_name,\n",
        "    FROM ensuring_one_kpi_per_account_and_objective\n",
        "    LEFT JOIN bringing_only_one_budget_per_account_id AS t_budget USING (account_id)\n",
        "    LEFT JOIN past_investment USING (account_id)\n",
        "),\n",
        "\n",
        "ensuring_all_clusters_have_budget AS (\n",
        "    SELECT\n",
        "        day,\n",
        "        pool_id,\n",
        "        pool_name,\n",
        "        ROUND(IFNULL(pool_budget, account_budget), 2) AS pool_budget,\n",
        "        pool_budget_source,\n",
        "        version,\n",
        "        automation_status,\n",
        "        account_id,\n",
        "        account_name,\n",
        "        account_budget,\n",
        "        objective_name,\n",
        "        objective_kpi,\n",
        "        ROUND(IFNULL(pool_budget, account_budget)*percentage_of_objective, 2) AS objective_budget,\n",
        "        ROUND(percentage_of_objective, 2) AS percentage_of_objective,\n",
        "        campaign_id,\n",
        "        campaign_name,\n",
        "        is_cbo,\n",
        "        adgroup_id,\n",
        "        adgroup_name,\n",
        "        IF(is_cbo, campaign_id, adgroup_id) AS object_id,\n",
        "        IF(is_cbo, campaign_name, adgroup_name) AS object_name,\n",
        "        IF(is_cbo, 'campaign', 'adset') AS object_type,\n",
        "        CAST(NULL AS BOOL) is_pool_modified\n",
        "    FROM ensuring_all_accounts_have_budget\n",
        ")\n",
        "\n",
        "SELECT *\n",
        "FROM ensuring_all_clusters_have_budget\n",
        "\n",
        "\"\"\", job_config=job_config)"
      ],
      "execution_count": 83,
      "outputs": []
    },
    {
      "cell_type": "code",
      "metadata": {
        "id": "O0R0q_Qe4aJ5",
        "outputId": "5c8041cb-f8d6-4245-dc30-e88bb1b9fc49",
        "colab": {
          "base_uri": "https://localhost:8080/",
          "height": 34
        }
      },
      "source": [
        "query.result()"
      ],
      "execution_count": 84,
      "outputs": [
        {
          "output_type": "execute_result",
          "data": {
            "text/plain": [
              "<google.cloud.bigquery.table.RowIterator at 0x7fc6e44a2668>"
            ]
          },
          "metadata": {
            "tags": []
          },
          "execution_count": 84
        }
      ]
    },
    {
      "cell_type": "markdown",
      "metadata": {
        "id": "xW_HE1nGHMld"
      },
      "source": [
        "## Adição de `is_pool_modified`\n",
        "\n"
      ]
    },
    {
      "cell_type": "code",
      "metadata": {
        "id": "lzjEfNcJIruV"
      },
      "source": [
        "query = client.query(f\"\"\"\n",
        "\n",
        "WITH current_config AS (\n",
        "    SELECT *\n",
        "    FROM {BIGQUERY_BUDGET_CONFIG_TABLE}\n",
        "    WHERE day = DATE(\"{PARTITION_DATE}\")\n",
        "),\n",
        "\n",
        "past_configs AS (\n",
        "    SELECT *\n",
        "    FROM {BIGQUERY_BUDGET_CONFIG_TABLE}\n",
        "    WHERE day < DATE(\"{PARTITION_DATE}\")\n",
        "),\n",
        "\n",
        "last_config AS (\n",
        "    SELECT *\n",
        "    FROM past_configs\n",
        "    WHERE day = (SELECT MAX(day) FROM past_configs)\n",
        ")\n",
        "\n",
        "-- Decidimos que todos os casos que devemos criar card é quando HOJE o budget está configurado na planilha.\n",
        "-- Para a configuração passada, não importa se estava configurada ou não.\n",
        "\n",
        "SELECT \n",
        "    current_config.* EXCEPT(is_pool_modified),\n",
        "    IF(\n",
        "        IFNULL(current_config.pool_budget, 0) != IFNULL(last_config.pool_budget, 0)\n",
        "        AND current_config.automation_status = 'ENABLED', \n",
        "        TRUE, \n",
        "        FALSE\n",
        "    ) AS is_pool_modified\n",
        "FROM current_config\n",
        "LEFT JOIN last_config USING(pool_name, account_id, campaign_id, adgroup_id)\n",
        "\n",
        "\"\"\", job_config=job_config)"
      ],
      "execution_count": 85,
      "outputs": []
    },
    {
      "cell_type": "code",
      "metadata": {
        "id": "2YTpMJ8xFe7S",
        "outputId": "eda8b36c-29f2-4871-9291-7d6fb0f2cf6b",
        "colab": {
          "base_uri": "https://localhost:8080/",
          "height": 34
        }
      },
      "source": [
        "query.result()"
      ],
      "execution_count": 86,
      "outputs": [
        {
          "output_type": "execute_result",
          "data": {
            "text/plain": [
              "<google.cloud.bigquery.table.RowIterator at 0x7fc6e443a3c8>"
            ]
          },
          "metadata": {
            "tags": []
          },
          "execution_count": 86
        }
      ]
    }
  ]
}